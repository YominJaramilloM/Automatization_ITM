{
  "cells": [
    {
      "cell_type": "code",
      "execution_count": 1,
      "id": "1dcc42fa",
      "metadata": {
        "id": "1dcc42fa",
        "colab": {
          "base_uri": "https://localhost:8080/"
        },
        "outputId": "d5c9be0f-bda1-4c17-db2b-c27e86b32364"
      },
      "outputs": [
        {
          "output_type": "stream",
          "name": "stdout",
          "text": [
            "(8,)\n",
            "(3, 3)\n",
            "(3, 2, 3)\n"
          ]
        }
      ],
      "source": [
        "import numpy as np\n",
        "#VECTOR\n",
        "vector=np.array([0,1,2,3,4,5,6,7])\n",
        "print(vector.shape)\n",
        "#MATRIZ\n",
        "matriz=np.array([[1, 2, 3], [4, 5, 6], [7, 8, 9]])\n",
        "print(matriz.shape)\n",
        "#TENSOR\n",
        "tensor=np.array([\n",
        "    [[1,2,3], [4,5,6]],\n",
        "    [[10,20,30], [40,55,60]],\n",
        "    [[100,200,200], [49,59,69]]\n",
        "])\n",
        "print(tensor.shape)"
      ]
    },
    {
      "cell_type": "code",
      "execution_count": 6,
      "id": "38e46caf",
      "metadata": {
        "id": "38e46caf",
        "outputId": "569bb916-8d3e-4b2f-c410-bfc9cf702e40",
        "colab": {
          "base_uri": "https://localhost:8080/"
        }
      },
      "outputs": [
        {
          "output_type": "stream",
          "name": "stdout",
          "text": [
            "[0 1 2 3 4 5 6 7]\n",
            "(8,)\n"
          ]
        }
      ],
      "source": [
        "#TRANSPUESTA\n",
        "vector_t = vector.T\n",
        "print(vector_t)\n",
        "print(vector_t.shape)"
      ]
    },
    {
      "cell_type": "code",
      "execution_count": 7,
      "id": "af353626",
      "metadata": {
        "id": "af353626",
        "outputId": "f4ddd7ac-5887-4610-8c92-296dc3a655df",
        "colab": {
          "base_uri": "https://localhost:8080/"
        }
      },
      "outputs": [
        {
          "output_type": "stream",
          "name": "stdout",
          "text": [
            "[[1 2 3]\n",
            " [4 5 6]\n",
            " [7 8 9]]\n",
            "[[1 4 7]\n",
            " [2 5 8]\n",
            " [3 6 9]]\n"
          ]
        }
      ],
      "source": [
        "matriz_t = matriz.T\n",
        "print(matriz)\n",
        "print(matriz_t)"
      ]
    },
    {
      "cell_type": "code",
      "execution_count": null,
      "id": "57c6d10e",
      "metadata": {
        "id": "57c6d10e",
        "outputId": "7a520d4a-983f-4a14-dd6f-71ba3c4e06ca",
        "colab": {
          "base_uri": "https://localhost:8080/"
        }
      },
      "outputs": [
        {
          "output_type": "stream",
          "name": "stdout",
          "text": [
            "(3, 2, 3)\n",
            "[[[  1   2   3]\n",
            "  [  4   5   6]]\n",
            "\n",
            " [[ 10  20  30]\n",
            "  [ 40  55  60]]\n",
            "\n",
            " [[100 200 200]\n",
            "  [ 49  59  69]]]\n",
            "(3, 2, 3)\n",
            "[[[  1  10 100]\n",
            "  [  4  40  49]]\n",
            "\n",
            " [[  2  20 200]\n",
            "  [  5  55  59]]\n",
            "\n",
            " [[  3  30 200]\n",
            "  [  6  60  69]]]\n"
          ]
        }
      ],
      "source": [
        "print(tensor.shape)\n",
        "print(tensor)\n",
        "tensor_t=tensor.T\n",
        "print(tensor_t.shape)\n",
        "print(tensor_t)"
      ]
    },
    {
      "cell_type": "code",
      "execution_count": null,
      "id": "cee9e44c",
      "metadata": {
        "id": "cee9e44c",
        "outputId": "6d470d35-5c4b-41ae-9eab-b4b180392059"
      },
      "outputs": [
        {
          "name": "stdout",
          "output_type": "stream",
          "text": [
            "[[[  1   2   3]\n",
            "  [  4   5   6]]\n",
            "\n",
            " [[ 10  20  30]\n",
            "  [ 40  55  60]]\n",
            "\n",
            " [[100 200 200]\n",
            "  [ 49  59  69]]]\n"
          ]
        }
      ],
      "source": [
        "#transpuesta de una transpuesta\n",
        "tensor_t_t=tensor_t.T\n",
        "print(tensor_t_t)"
      ]
    },
    {
      "cell_type": "code",
      "execution_count": 8,
      "id": "491b7406",
      "metadata": {
        "id": "491b7406",
        "outputId": "3efa7d85-fb27-4343-f567-2a1a68eb4f54",
        "colab": {
          "base_uri": "https://localhost:8080/"
        }
      },
      "outputs": [
        {
          "output_type": "stream",
          "name": "stdout",
          "text": [
            "[[3 3 3]\n",
            " [3 3 3]]\n"
          ]
        }
      ],
      "source": [
        "#suma de matrices dimensiones iguales\n",
        "a=np.array([[1,1,1], [1,1,1]])\n",
        "b=np.array([[2,2,2], [2,2,2]])\n",
        "c=a+b\n",
        "print(c)"
      ]
    },
    {
      "cell_type": "code",
      "execution_count": 9,
      "id": "46423a45",
      "metadata": {
        "id": "46423a45",
        "outputId": "cab48c8c-a42c-4b24-9574-1116f0d699a0",
        "colab": {
          "base_uri": "https://localhost:8080/"
        }
      },
      "outputs": [
        {
          "output_type": "stream",
          "name": "stdout",
          "text": [
            "[[11 11 11]\n",
            " [11 11 11]]\n"
          ]
        }
      ],
      "source": [
        "d=10+a\n",
        "print(d)"
      ]
    },
    {
      "cell_type": "code",
      "execution_count": 10,
      "id": "4954481f",
      "metadata": {
        "id": "4954481f",
        "outputId": "0510b993-b530-4028-d092-e662e25d033e",
        "colab": {
          "base_uri": "https://localhost:8080/"
        }
      },
      "outputs": [
        {
          "output_type": "stream",
          "name": "stdout",
          "text": [
            "(5,)\n",
            "(5, 4)\n",
            "[[2 2 2 2 2]\n",
            " [3 3 3 3 3]\n",
            " [4 4 4 4 4]\n",
            " [5 5 5 5 5]]\n"
          ]
        }
      ],
      "source": [
        "#SUMA DE MATRICES Y VECTORES BROADCASTING\n",
        "#la ultima dimension debe coincidir con la primera\n",
        "vector_ones=np.array([1,1,1,1,1])\n",
        "matriz=np.array([[1,2,3,4],[1,2,3,4],[1,2,3,4],[1,2,3,4],[1,2,3,4]])\n",
        "print(vector_ones.shape)\n",
        "print(matriz.shape)\n",
        "print(matriz.T+vector_ones)"
      ]
    },
    {
      "cell_type": "code",
      "execution_count": 11,
      "id": "f6e178ef",
      "metadata": {
        "id": "f6e178ef",
        "outputId": "3d8fb15d-afef-4a70-f0f7-2c14e95500f8",
        "colab": {
          "base_uri": "https://localhost:8080/"
        }
      },
      "outputs": [
        {
          "output_type": "stream",
          "name": "stdout",
          "text": [
            "[[2 2 2 2 2]\n",
            " [3 3 3 3 3]\n",
            " [4 4 4 4 4]\n",
            " [5 5 5 5 5]]\n"
          ]
        }
      ],
      "source": [
        "print(matriz.T+vector_ones)\n"
      ]
    },
    {
      "cell_type": "code",
      "execution_count": 2,
      "id": "6af7f761",
      "metadata": {
        "id": "6af7f761",
        "outputId": "231ebbc7-9866-48c4-fc81-e5e2261262ac",
        "colab": {
          "base_uri": "https://localhost:8080/"
        }
      },
      "outputs": [
        {
          "output_type": "stream",
          "name": "stdout",
          "text": [
            "[[1 2 3]\n",
            " [2 2 3]]\n"
          ]
        }
      ],
      "source": [
        "#PRODUCTO INTERNO ENTRE UNA MATRIZ Y UN VERCTOR\n",
        "a=np.array([[1,2],[2,2],[3,3]])\n",
        "b=np.array([1,2,3])\n",
        "print(a.T)"
      ]
    },
    {
      "cell_type": "code",
      "execution_count": 3,
      "id": "09204dda",
      "metadata": {
        "id": "09204dda",
        "outputId": "aba2a57e-0f5a-45e4-c6d3-5e1525445740",
        "colab": {
          "base_uri": "https://localhost:8080/"
        }
      },
      "outputs": [
        {
          "output_type": "execute_result",
          "data": {
            "text/plain": [
              "array([[1, 4, 9],\n",
              "       [2, 4, 9]])"
            ]
          },
          "metadata": {},
          "execution_count": 3
        }
      ],
      "source": [
        "a.T*b\n"
      ]
    },
    {
      "cell_type": "code",
      "execution_count": null,
      "id": "6edfcb90",
      "metadata": {
        "id": "6edfcb90",
        "outputId": "fc7da74f-062b-413c-c0f9-e0e3fd7448f1"
      },
      "outputs": [
        {
          "data": {
            "text/plain": [
              "array([14, 15])"
            ]
          },
          "execution_count": 20,
          "metadata": {},
          "output_type": "execute_result"
        }
      ],
      "source": [
        "a.T.dot(b)"
      ]
    },
    {
      "cell_type": "code",
      "execution_count": null,
      "id": "87c812df",
      "metadata": {
        "id": "87c812df",
        "outputId": "db478a2f-4214-44f1-feb5-50fdd0f5f839",
        "colab": {
          "base_uri": "https://localhost:8080/"
        }
      },
      "outputs": [
        {
          "output_type": "stream",
          "name": "stdout",
          "text": [
            "[[16  9 29]\n",
            " [12 11 19]]\n"
          ]
        }
      ],
      "source": [
        "x=np.array([[1,2,3],[3,2,1]])\n",
        "y=np.array([[1,2,3],[3,2,1],[3,1,8]])\n",
        "print(x.dot(y))"
      ]
    },
    {
      "cell_type": "code",
      "execution_count": null,
      "id": "3cd82ab9",
      "metadata": {
        "id": "3cd82ab9"
      },
      "outputs": [],
      "source": []
    }
  ],
  "metadata": {
    "kernelspec": {
      "display_name": "Python 3 (ipykernel)",
      "language": "python",
      "name": "python3"
    },
    "language_info": {
      "codemirror_mode": {
        "name": "ipython",
        "version": 3
      },
      "file_extension": ".py",
      "mimetype": "text/x-python",
      "name": "python",
      "nbconvert_exporter": "python",
      "pygments_lexer": "ipython3",
      "version": "3.9.13"
    },
    "colab": {
      "provenance": []
    }
  },
  "nbformat": 4,
  "nbformat_minor": 5
}