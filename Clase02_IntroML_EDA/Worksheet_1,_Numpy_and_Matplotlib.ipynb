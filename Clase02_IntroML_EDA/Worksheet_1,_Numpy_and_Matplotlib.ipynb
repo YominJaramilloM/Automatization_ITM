{
  "nbformat": 4,
  "nbformat_minor": 0,
  "metadata": {
    "kernelspec": {
      "display_name": "Python 3",
      "language": "python",
      "name": "python3"
    },
    "language_info": {
      "codemirror_mode": {
        "name": "ipython",
        "version": 3
      },
      "file_extension": ".py",
      "mimetype": "text/x-python",
      "name": "python",
      "nbconvert_exporter": "python",
      "pygments_lexer": "ipython3",
      "version": "3.6.6"
    },
    "colab": {
      "provenance": []
    }
  },
  "cells": [
    {
      "cell_type": "markdown",
      "metadata": {
        "id": "kQT8-hhnTo8B"
      },
      "source": [
        "## Worksheet 1: Numpy and Matplotlib\n",
        "\n",
        "This is a _Jupyter notebook_. It consists of a series of _cells_. Some contain simple text, like this one, and some contain code, like the one below. Read each cell carefully. If it contains code, you can click the \"play\" button above to execute it. Don't execute a new cell until all previous ones have finished executing.\n",
        "\n",
        "**NB: If you go back up an re-run a cell, it can happen that it doesn't work anymore, because the variable names have been re-used. If something doesn't work, for any reason, please try \"Kernel > Restart & Clear Output\" and start again from the top. If the error keeps happening, please post a question on the Canvas message board.**\n",
        "\n",
        "We will assume that you know the basics of Python. If you don't, please work your way through [this tutorial](https://www.learnpython.org/) first to get caught up.\n",
        "\n",
        "The next cell imports the library **numpy** (short for **num**eric **py**thon)."
      ]
    },
    {
      "cell_type": "code",
      "metadata": {
        "id": "PrTV2e51UFu9",
        "colab": {
          "base_uri": "https://localhost:8080/"
        },
        "outputId": "bbd4b2fd-3373-48e2-cd44-811728e0e369"
      },
      "source": [
        "from google.colab import drive\n",
        "drive.mount('/content/drive')"
      ],
      "execution_count": null,
      "outputs": [
        {
          "output_type": "stream",
          "name": "stdout",
          "text": [
            "Mounted at /content/drive\n"
          ]
        }
      ]
    },
    {
      "cell_type": "code",
      "metadata": {
        "id": "vWPZ5b8KT_MT"
      },
      "source": [
        "import sys\n",
        "sys.path.append('/content/drive/MyDrive/Colab Notebooks/Machine Learning/Introducción')"
      ],
      "execution_count": null,
      "outputs": []
    },
    {
      "cell_type": "code",
      "metadata": {
        "id": "fZmoKdWMWa9a",
        "colab": {
          "base_uri": "https://localhost:8080/"
        },
        "outputId": "536255b4-dd62-4585-ef25-1b93a32a58db"
      },
      "source": [
        "%cd '/content/drive/MyDrive/Colab Notebooks/Machine Learning/Introducción'"
      ],
      "execution_count": null,
      "outputs": [
        {
          "output_type": "stream",
          "name": "stdout",
          "text": [
            "/content/drive/MyDrive/Colab Notebooks/Machine Learning/Introducción\n"
          ]
        }
      ]
    },
    {
      "cell_type": "code",
      "metadata": {
        "id": "DWmgNTaDTo8D"
      },
      "source": [
        "import numpy as np"
      ],
      "execution_count": null,
      "outputs": []
    },
    {
      "cell_type": "markdown",
      "metadata": {
        "id": "iTg74JMBTo8M"
      },
      "source": [
        "If you see something like \"In [1]:\" next to the cell above, execution has finished.\n",
        "\n",
        "## Numpy\n",
        "\n",
        "Numpy is a _Linear Algebra_ library. It allows you to represent vectors, matrices and tensors as Python objects, and to manipulate these in all the ways you'd expect. \n",
        "\n",
        "Most machine learning research uses Linear Algebra as its basic language, so most machine learning _code_ is built on libraries like numpy.\n",
        "\n",
        "Let's start by making a 2 x 2 matrix, filled with some arbitrary numbers."
      ]
    },
    {
      "cell_type": "code",
      "metadata": {
        "id": "f2yXdYLvTo8Q",
        "colab": {
          "base_uri": "https://localhost:8080/"
        },
        "outputId": "186a4a55-6d02-49fe-b0d7-81d1245bd527"
      },
      "source": [
        "np.asarray([[2, 3],[4, 5]])"
      ],
      "execution_count": null,
      "outputs": [
        {
          "output_type": "execute_result",
          "data": {
            "text/plain": [
              "array([[2, 3],\n",
              "       [4, 5]])"
            ]
          },
          "metadata": {},
          "execution_count": 5
        }
      ]
    },
    {
      "cell_type": "markdown",
      "metadata": {
        "id": "iqEA5WI1To8X"
      },
      "source": [
        "The numpy [documentation](https://docs.scipy.org/doc/numpy-1.13.0/reference/generated/numpy.asarray.html) can tell you more about all of the functions you see here. Each function is annotated with several examples.\n",
        "\n",
        "We can also create a matrix of random numbers between 0.0 and 1.0:"
      ]
    },
    {
      "cell_type": "code",
      "metadata": {
        "id": "L4cm9z38To8Z",
        "colab": {
          "base_uri": "https://localhost:8080/"
        },
        "outputId": "8a156666-8ba2-41fe-bdbf-161979175d3f"
      },
      "source": [
        "np.random.rand(2,2)"
      ],
      "execution_count": null,
      "outputs": [
        {
          "output_type": "execute_result",
          "data": {
            "text/plain": [
              "array([[0.93104999, 0.14237097],\n",
              "       [0.47952779, 0.26588282]])"
            ]
          },
          "metadata": {},
          "execution_count": 6
        }
      ]
    },
    {
      "cell_type": "markdown",
      "metadata": {
        "id": "bfbuhqOXTo8f"
      },
      "source": [
        "Note that the numbers change if you execute the cell again. The arguments indicate the _shape_ of the resulting matrix. Try changing the cell above; if you pass rand a single argument, you get a vector. If you pass it more than two arguments, you get a _tensor_ (the higher-dimensional analogue of a matrix).\n",
        "\n",
        "Let's take a slightly bigger matrix, and see what we can do with it. This time, we'll load some actual data:"
      ]
    },
    {
      "cell_type": "code",
      "metadata": {
        "scrolled": true,
        "id": "Thp9N_6NTo8g",
        "colab": {
          "base_uri": "https://localhost:8080/"
        },
        "outputId": "16493d1a-1122-4951-b004-64cbf059a156"
      },
      "source": [
        "data = np.loadtxt('cricketers.sub.csv', delimiter=',')\n",
        "print(data)"
      ],
      "execution_count": null,
      "outputs": [
        {
          "output_type": "stream",
          "name": "stdout",
          "text": [
            "[[1890.  102.]\n",
            " [1892.  100.]\n",
            " [1893.   99.]\n",
            " ...\n",
            " [1876.   88.]\n",
            " [1850.   65.]\n",
            " [1885.   32.]]\n"
          ]
        }
      ]
    },
    {
      "cell_type": "code",
      "metadata": {
        "id": "nboDs45eWqJA"
      },
      "source": [],
      "execution_count": null,
      "outputs": []
    },
    {
      "cell_type": "markdown",
      "metadata": {
        "id": "SZMJtQCXTo8m"
      },
      "source": [
        "Each row in this matrix represents a professional cricketer from the 19th or 20th century. The first column indicates their year of birth, the second indicates how old they were when the data was collected if they were still alive, or at what age they died, otherwise. \n",
        "\n",
        "Let's start by seeing how many cricketers we have:"
      ]
    },
    {
      "cell_type": "code",
      "metadata": {
        "id": "E41WusnSTo8m"
      },
      "source": [
        "data.shape"
      ],
      "execution_count": null,
      "outputs": []
    },
    {
      "cell_type": "markdown",
      "metadata": {
        "id": "9cd65uSbTo8t"
      },
      "source": [
        "Our data has 5960 rows, and two columns. We can ask for a specific element of the matrix by using square brackets to index the matrix. Here is the date of birth and age of the 10th cricketer:"
      ]
    },
    {
      "cell_type": "code",
      "metadata": {
        "id": "1-m6wjd2To8v"
      },
      "source": [
        "print('year of birth ', data[9, 0])\n",
        "print('age ', data[9, 1])"
      ],
      "execution_count": null,
      "outputs": []
    },
    {
      "cell_type": "markdown",
      "metadata": {
        "id": "De98nFdyTo8z"
      },
      "source": [
        "**Note that indexing starts from 0.** The first column is column 0, and the second is column 1.\n",
        "\n",
        "The [slicing syntax](https://www.oreilly.com/learning/how-do-i-use-the-slice-notation-in-python) that you know from python lists can also be used for matrices. For instance, here are the first ten cricketers' years of birth:"
      ]
    },
    {
      "cell_type": "code",
      "metadata": {
        "id": "cQcxL6nMTo80"
      },
      "source": [
        "data[0:10, 0]"
      ],
      "execution_count": null,
      "outputs": []
    },
    {
      "cell_type": "markdown",
      "metadata": {
        "id": "InlZQHYmTo84"
      },
      "source": [
        "To check that you understand, see if you can predict the result of the following slicing operations (and then execute the cells):"
      ]
    },
    {
      "cell_type": "code",
      "metadata": {
        "id": "q1XaYHI5To86"
      },
      "source": [
        "data[:10, 1]"
      ],
      "execution_count": null,
      "outputs": []
    },
    {
      "cell_type": "code",
      "metadata": {
        "id": "rs9j6z0tTo8_"
      },
      "source": [
        "data[0:10, :]"
      ],
      "execution_count": null,
      "outputs": []
    },
    {
      "cell_type": "code",
      "metadata": {
        "id": "4bCYpZ5RTo9D"
      },
      "source": [
        "data[-1, :]"
      ],
      "execution_count": null,
      "outputs": []
    },
    {
      "cell_type": "markdown",
      "metadata": {
        "id": "rDOEF-i3To9I"
      },
      "source": [
        "## Matplotlib\n",
        "\n",
        "The first rule of data science is _look at your data_. We can do this easily with the library **matplotlib**. Let's start by importing it."
      ]
    },
    {
      "cell_type": "code",
      "metadata": {
        "id": "tyFsTclOTo9J"
      },
      "source": [
        "import matplotlib.pyplot as plt\n",
        "# ensure that plots are displayed inside the notebook\n",
        "%matplotlib inline "
      ],
      "execution_count": null,
      "outputs": []
    },
    {
      "cell_type": "markdown",
      "metadata": {
        "id": "qoTGv1UqTo9P"
      },
      "source": [
        "We've imported the pyplot sublibrary. This library acts as a \"state machine\", it assumes we are working on a single plot and every command we give changes the state of that plot. This is great for simple plots.\n",
        "\n",
        "For more complicated stuff, you may want to use [the object-oriented interface](https://matplotlib.org/faq/usage_faq.html). This is a little more complicated, but more powerful.\n",
        "\n",
        "For now, we can keep things simple. We want a scatter plot of the first column in the data (year of birth) against the second (age). We can to this with the plt.scatter() command. It expects at least two arguments: vectors of the same length, indicating the x and y coordinate of each point. In other words, we'll need to slice our data matrix into the first and second columns:"
      ]
    },
    {
      "cell_type": "code",
      "metadata": {
        "id": "qyt9b4HcTo9Q"
      },
      "source": [
        "x = data[:, 0]\n",
        "y = data[:, 1]\n",
        "plt.scatter(x, y);             # the semicolon stops jupyter from printing the result of the last function call"
      ],
      "execution_count": null,
      "outputs": []
    },
    {
      "cell_type": "markdown",
      "metadata": {
        "id": "wmJC21BZTo9U"
      },
      "source": [
        "Let's make the dots a little smaller, and slightly transparent, to show the structure a little better. See [the documentation](https://matplotlib.org/devdocs/api/_as_gen/matplotlib.pyplot.scatter.html) for more options.\n",
        "\n",
        "Let's also be good data scientists and label our axes."
      ]
    },
    {
      "cell_type": "code",
      "metadata": {
        "id": "8VEHKMROTo9V"
      },
      "source": [
        "plt.scatter(x, y, s=3, alpha=0.2)\n",
        "plt.xlabel('year of birth')\n",
        "plt.ylabel('age');"
      ],
      "execution_count": null,
      "outputs": []
    },
    {
      "cell_type": "markdown",
      "metadata": {
        "id": "oQx_NI3zTo9a"
      },
      "source": [
        "The most prominent feature is the dense, diagonal line at the left. Can you explain why this is there?\n",
        "\n",
        "In the middle of the plot, we see two, more noisy, more vague diagonal lines. Can you guess what they represent?\n",
        "\n",
        "To clear this up, we can make a different plot: we can plot the year that the cricketer _died_ against their age. This value isn't given in the data, but it's easy to compute: we just sum their age with their year of birth. Numpy makes this expecially easy by overloading the basic operators like +, -, \\* and /. These are all **element-wise** operators: if we sum two matrices of the same shape, the result will be a matrix (of that shape also), in which each element is the sum of the corresponding elements in the input matrices. \n",
        "\n",
        "In other words, to get the year of death, we can simply do:"
      ]
    },
    {
      "cell_type": "code",
      "metadata": {
        "id": "yoJRFb87To9b"
      },
      "source": [
        "year_of_death = data[:,0] + data[:,1]"
      ],
      "execution_count": null,
      "outputs": []
    },
    {
      "cell_type": "markdown",
      "metadata": {
        "id": "VbMGz0vNTo9e"
      },
      "source": [
        "Let's check the distribution first, by plotting a histogram:"
      ]
    },
    {
      "cell_type": "code",
      "metadata": {
        "id": "RKKGRgX0To9f"
      },
      "source": [
        "plt.hist(year_of_death);"
      ],
      "execution_count": null,
      "outputs": []
    },
    {
      "cell_type": "markdown",
      "metadata": {
        "id": "G0YzUzZPTo9k"
      },
      "source": [
        "The big bar on the right is not some huge calamity in the cricket world. I just shows the large proportion of cricketers that were still alive when the data was gathered. Let's zoom in a little, and use some more bins to show the finer detail. Again, [the documentation](https://matplotlib.org/devdocs/api/_as_gen/matplotlib.pyplot.hist.html) shows you more options."
      ]
    },
    {
      "cell_type": "code",
      "metadata": {
        "id": "cgWIYy6hTo9k"
      },
      "source": [
        "plt.hist(year_of_death, bins=100, range=[1870, 1970]);"
      ],
      "execution_count": null,
      "outputs": []
    },
    {
      "cell_type": "markdown",
      "metadata": {
        "id": "EZKoLtzjTo9o"
      },
      "source": [
        "We see a pretty big spike for World War I, but World War II is hidden in the noise. If we return to the scatter plot, se can make it stand out a little more."
      ]
    },
    {
      "cell_type": "code",
      "metadata": {
        "id": "V57zNVW5To9o"
      },
      "source": [
        "plt.scatter(data[:,0]+data[:,1], data[:,1], s=3, alpha=0.2)\n",
        "plt.xlabel('year of death')\n",
        "plt.ylabel('age at death');"
      ],
      "execution_count": null,
      "outputs": []
    },
    {
      "cell_type": "markdown",
      "metadata": {
        "id": "NsR61mNATo9s"
      },
      "source": [
        "If you want to save your plot to a file, you can use ``plt.savefig('myplot.pdf')``. The filetype is automatically detected from the extension.\n",
        "\n",
        "## Quick numpy tricks\n",
        "\n",
        "You should now have a basic idea of how numpy works, and how to make simple plots. \n",
        "Numpy is a complex library with many options. We'll finish up by showing you a few important aspects, and pointing you  to some more elaborate tutorials.\n",
        "\n",
        "### Matrix multplication\n",
        "\n",
        "First up: matrix multiplication. For two matrices ``a`` and ``b``, ``a * b`` gives you an element-wise multiplication. What if you want to do a full matrix multiplication? That works like this:"
      ]
    },
    {
      "cell_type": "code",
      "metadata": {
        "id": "U2elkZcATo9t"
      },
      "source": [
        "a = np.asarray([[1, 2],[3, 4]])\n",
        "print(a)\n",
        "b = np.eye(2) # the 2x2 identity matrix\n",
        "\n",
        "print('\\nelement-wise\\n', a * b)\n",
        "\n",
        "print('\\nmatrix multiplication\\n', a.dot(b))"
      ],
      "execution_count": null,
      "outputs": []
    },
    {
      "cell_type": "markdown",
      "metadata": {
        "id": "QUglG3GbTo9w"
      },
      "source": [
        "### Broadcasting\n",
        "\n",
        "[Broadcasting](https://docs.scipy.org/doc/numpy/user/basics.broadcasting.html) is one of numpy's most complex, and most useful behaviors. Put simply, when you try apply an element-wise operation (like +) to two matrices that don't have the same size, numpy checks if it can stretch one of them to make the sizes match. \n",
        "\n",
        "The simplest example is combining a matrix with a scalar. Let's say we want to add 10 to every element in a matrix. \n"
      ]
    },
    {
      "cell_type": "code",
      "metadata": {
        "id": "qPjr0_m8To9x"
      },
      "source": [
        "a + 10"
      ],
      "execution_count": null,
      "outputs": []
    },
    {
      "cell_type": "markdown",
      "metadata": {
        "id": "IsIEeLioTo90"
      },
      "source": [
        "Under the hood, numpy dynamically stretches  the scalar 10 our to a matrix of 2x2, filled with 10's and then adds that, element-wise, to ``a``.\n",
        "\n",
        "Here is another example, adding a length 3 vector to a 16x3 matrix:"
      ]
    },
    {
      "cell_type": "code",
      "metadata": {
        "id": "WfmcFrmXTo91"
      },
      "source": [
        "a = np.random.rand(16,3)\n",
        "b = np.asarray([0,1,2])\n",
        "a + b"
      ],
      "execution_count": null,
      "outputs": []
    },
    {
      "cell_type": "markdown",
      "metadata": {
        "id": "Bwv1mQWBTo95"
      },
      "source": [
        "If the two matrices being added don't have the same number of dimensions, they are aligned from the last dimension. In this case, broadcasting was allowed, because the last dimension of ``a`` matched the last dimension of ``b``. If ``b`` had been 16 elements long, we would not be allowed to broadcast (try it).\n",
        "\n",
        "In this case, we could add a dimension, to make ``b`` a 16x1 matrix. The broadcasting rules allow any dimension of size 1 to be stretched to match the other matrix.\n",
        "\n",
        "I'm sure that right now, broadcasting seems quite mysterious. It's enough to be aware that this behavior exists. If you encounter it in action, you'll see how much easier and intuitive it can make things. The numpy documentation provides [a more complete explanation](https://docs.scipy.org/doc/numpy/user/basics.broadcasting.html) if you need one."
      ]
    },
    {
      "cell_type": "markdown",
      "metadata": {
        "id": "V7CEfjGXTo95"
      },
      "source": [
        "## Final comments\n",
        "\n",
        "That's it for this worksheet. This doesn't make your numpy/matplotlib experts, but it hopefully gives you an indication of how things work, and a safe environment to experiment in. Just click the plus-icon in the toolbar make a new cell, and start playing around with the data.\n",
        "\n",
        "To learn more about **numpy**, you can start here:\n",
        "* [The official numpy quickstart guide](https://docs.scipy.org/doc/numpy-dev/user/quickstart.html)\n",
        "* [A more in-depth tutorial, with in-browser samples](https://www.datacamp.com/community/tutorials/python-numpy-tutorial)\n",
        "* [A very good walk through the most important functions and features](http://cs231n.github.io/python-numpy-tutorial/). From the famous [CS231n course](http://cs231n.github.io/), from Stanford.\n",
        "\n",
        "To dive deeper into **matplotlib**, these are some good jumping-off points:\n",
        "* [The official pyplot tutorial](https://matplotlib.org/users/pyplot_tutorial.html). Note that pyplot can accept basic python lists as well as numpy data.\n",
        "* [A gallery of example MPL plots](https://matplotlib.org/gallery.html). Most of these do not use the pyplot state-machine interface, but the more low level objects like [Axes](https://matplotlib.org/api/axes_api.html).\n",
        "* [In-depth walk through the main features and plot types](http://www.scipy-lectures.org/intro/matplotlib/matplotlib.html)\n",
        "\n",
        "In the next worksheet, we'll see how to take some numpy data, and apply a machine learning algorithm to it, using the **sklearn** library."
      ]
    },
    {
      "cell_type": "code",
      "metadata": {
        "id": "gaM5JkRDTo96"
      },
      "source": [],
      "execution_count": null,
      "outputs": []
    }
  ]
}